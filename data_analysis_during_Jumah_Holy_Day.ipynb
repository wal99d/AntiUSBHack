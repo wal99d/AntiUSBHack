{
  "cells": [
    {
      "cell_type": "markdown",
      "source": [
        "# Doing some data analysis during Jumah Holy Day"
      ],
      "metadata": {
        "id": "GfH7FtBwlN6m"
      }
    },
    {
      "cell_type": "markdown",
      "source": [
        "### Importing needed libraries"
      ],
      "metadata": {
        "id": "cudR-WwojG_g"
      }
    },
    {
      "cell_type": "code",
      "source": [
        "import pandas as pd\n",
        "import matplotlib.pyplot as plt\n"
      ],
      "outputs": [],
      "execution_count": null,
      "metadata": {
        "id": "a8_sFN2ZjG_j"
      }
    },
    {
      "cell_type": "markdown",
      "source": [
        "### Setting Data for all 114 Surahs of the Quran and their Ayat counts\n"
      ],
      "metadata": {
        "id": "vmIibURhkYAf"
      }
    },
    {
      "cell_type": "code",
      "source": [
        "data = {\n",
        "    'No': list(range(1, 115)),\n",
        "    'Ayats': [\n",
        "        7, 286, 200, 176, 120, 165, 206, 75, 129, 109, 123, 111, 43, 52, 99, 128,\n",
        "        111, 110, 98, 135, 112, 78, 118, 64, 77, 227, 93, 88, 69, 60, 34, 30, 73,\n",
        "        54, 45, 83, 182, 88, 75, 85, 54, 53, 89, 59, 37, 35, 38, 29, 18, 45, 60,\n",
        "        49, 62, 55, 78, 96, 29, 22, 24, 13, 14, 11, 11, 18, 12, 12, 30, 52, 52,\n",
        "        44, 28, 28, 20, 56, 40, 31, 50, 40, 46, 42, 29, 19, 36, 25, 22, 17, 19,\n",
        "        26, 30, 20, 15, 21, 11, 8, 8, 19, 5, 8, 8, 11, 11, 8, 3, 9, 5, 4, 7, 3,\n",
        "        6, 3, 5, 4, 5, 6\n",
        "    ]\n",
        "}"
      ],
      "metadata": {
        "id": "W8YbbNd6ke-v"
      },
      "execution_count": null,
      "outputs": []
    },
    {
      "cell_type": "markdown",
      "source": [
        "### Create a Pandas DataFrame from the data\n"
      ],
      "metadata": {
        "id": "dduWp5Z2kmaj"
      }
    },
    {
      "cell_type": "code",
      "source": [
        "df = pd.DataFrame(data)"
      ],
      "metadata": {
        "id": "H04e2wrSkqHY"
      },
      "execution_count": null,
      "outputs": []
    },
    {
      "cell_type": "markdown",
      "source": [
        "### Create the plot"
      ],
      "metadata": {
        "id": "oo1macZfkx4E"
      }
    },
    {
      "cell_type": "code",
      "source": [
        "plt.figure(figsize=(15, 7), dpi=300) # Set figure size and DPI for high definition\n",
        "\n",
        "# Plot the original Ayat count as a blue line\n",
        "plt.plot(df['No'], df['Ayats'], label='Original Ayat Count', color='blue', linewidth=1)\n",
        "\n",
        "# Set the title and labels for the axes\n",
        "plt.title('Number of Ayats per Surah in the Quran', fontsize=16)\n",
        "plt.xlabel('Surah Number (Starting from Al-Fatiha)', fontsize=12)\n",
        "plt.ylabel('Number of Ayats', fontsize=12)\n",
        "\n",
        "# Display the legend\n",
        "plt.legend()\n",
        "\n",
        "# Add a grid for better readability\n",
        "plt.grid(True, linestyle='--', alpha=0.7)\n",
        "\n",
        "# Set x-axis ticks to show every 10th Surah number for readability, ensuring it starts from 1\n",
        "plt.xticks(range(1, 115, 10))\n",
        "\n",
        "# Explicitly set x-axis limits to span from Surah 1 to Surah 114\n",
        "plt.xlim(1, 114)\n",
        "\n",
        "# Adjust plot to prevent labels from overlapping\n",
        "plt.tight_layout()\n",
        "\n",
        "# Save the plot to a file\n",
        "plt.savefig('quran_ayat_original_line_chart_HD_updated.png')"
      ],
      "metadata": {
        "id": "NrfuohTxk2j4"
      },
      "execution_count": null,
      "outputs": []
    }
  ],
  "metadata": {
    "colab": {
      "provenance": []
    },
    "kernelspec": {
      "display_name": "Python 3",
      "name": "python3"
    }
  },
  "nbformat": 4,
  "nbformat_minor": 0
}